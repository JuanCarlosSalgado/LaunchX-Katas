{
 "cells": [
  {
   "cell_type": "markdown",
   "metadata": {},
   "source": [
    "## Primer ejercicio Asteroides que se acercan :o"
   ]
  },
  {
   "cell_type": "code",
   "execution_count": 15,
   "metadata": {},
   "outputs": [
    {
     "name": "stdout",
     "output_type": "stream",
     "text": [
      "Houston, we have a problem\n"
     ]
    }
   ],
   "source": [
    "Asteroid_Vel = 49\n",
    "#Cualquier velocidad superior a 25 merece una advertencia\n",
    "\n",
    "if Asteroid_Vel >= 25:\n",
    "    print(\"Houston, we have a problem\")\n",
    "else:\n",
    "    Print(\"Todo bien no se preocupen\")"
   ]
  },
  {
   "cell_type": "markdown",
   "metadata": {},
   "source": [
    "## Segundo caso con un asteroide"
   ]
  },
  {
   "cell_type": "code",
   "execution_count": 16,
   "metadata": {},
   "outputs": [
    {
     "name": "stdout",
     "output_type": "stream",
     "text": [
      "Que bonito dia!\n"
     ]
    }
   ],
   "source": [
    "Asteroid_Vel = 19\n",
    "\n",
    "if Asteroid_Vel >= 20:\n",
    "    print(\"Se acuerdan de lo que paso con los dinosaurios?\")\n",
    "else:\n",
    "    print(\"Que bonito dia!\")"
   ]
  },
  {
   "cell_type": "markdown",
   "metadata": {},
   "source": [
    "## Tercer ejercicio Tamaño de los Asteroides"
   ]
  },
  {
   "cell_type": "code",
   "execution_count": 17,
   "metadata": {},
   "outputs": [
    {
     "name": "stdout",
     "output_type": "stream",
     "text": [
      "Se acuerdan de lo que paso con los dinosaurios?\n"
     ]
    }
   ],
   "source": [
    "Asteroid_Vel = 25\n",
    "Asteroid_Dim = 40\n",
    "\n",
    "if 25<Asteroid_Dim<1000 or Asteroid_Vel > 20:\n",
    "    if Asteroid_Dim<25 and Asteroid_Vel < 25:\n",
    "        print(\"Mira lucecitas bonitas\")\n",
    "    else:\n",
    "        print(\"Se acuerdan de lo que paso con los dinosaurios?\")\n",
    "else:\n",
    "    print(\"Aqui no ha pasao naa\")"
   ]
  },
  {
   "cell_type": "code",
   "execution_count": null,
   "metadata": {},
   "outputs": [],
   "source": []
  }
 ],
 "metadata": {
  "interpreter": {
   "hash": "c7989741b2ff231c59047787e0edc5bf0e1d4d594b16f58f2bcad697e7950c5c"
  },
  "kernelspec": {
   "display_name": "Python 3.8.6 64-bit",
   "language": "python",
   "name": "python3"
  },
  "language_info": {
   "codemirror_mode": {
    "name": "ipython",
    "version": 3
   },
   "file_extension": ".py",
   "mimetype": "text/x-python",
   "name": "python",
   "nbconvert_exporter": "python",
   "pygments_lexer": "ipython3",
   "version": "3.8.6"
  },
  "orig_nbformat": 4
 },
 "nbformat": 4,
 "nbformat_minor": 2
}
