{
 "cells": [
  {
   "cell_type": "markdown",
   "metadata": {},
   "source": [
    "## Kata 5"
   ]
  },
  {
   "cell_type": "code",
   "execution_count": 5,
   "metadata": {},
   "outputs": [
    {
     "name": "stdout",
     "output_type": "stream",
     "text": [
      "628949330\n"
     ]
    }
   ],
   "source": [
    "Distancia_Tierra = 149597870\n",
    "Distancia_Jupiter = 778547200\n",
    "Distancia_T_J = Distancia_Jupiter - Distancia_Tierra\n",
    "print(Distancia_T_J)"
   ]
  },
  {
   "cell_type": "code",
   "execution_count": 6,
   "metadata": {},
   "outputs": [
    {
     "name": "stdout",
     "output_type": "stream",
     "text": [
      "Distancia en millas es: 390577533.93\n"
     ]
    }
   ],
   "source": [
    "print(\"Distancia en millas es: \" + str(Distancia_T_J*0.621))"
   ]
  },
  {
   "cell_type": "code",
   "execution_count": 11,
   "metadata": {},
   "outputs": [
    {
     "name": "stdout",
     "output_type": "stream",
     "text": [
      "La Distancia entre los planetas es: 95\n",
      "Y su distancia en millas es: 58.995\n"
     ]
    }
   ],
   "source": [
    "Distancia1 = input(\"Ingrese la distancia del primer planeta\")\n",
    "Distancia2 = input(\"Ingrese la distancia del segundo\")\n",
    "Distancia1 = int(Distancia1)\n",
    "Distancia2 = int(Distancia2)\n",
    "print(\"La Distancia entre los planetas es: \" + str(abs(Distancia2-Distancia1)))\n",
    "print(\"Y su distancia en millas es: \" + str(abs(Distancia1-Distancia2)*0.621))"
   ]
  },
  {
   "cell_type": "code",
   "execution_count": null,
   "metadata": {},
   "outputs": [],
   "source": []
  }
 ],
 "metadata": {
  "interpreter": {
   "hash": "c30b2895c9c2e055fddaaa93700725b4c4ae209d54b952c98fd807c1f64e523a"
  },
  "kernelspec": {
   "display_name": "Python 3.10.2 64-bit",
   "language": "python",
   "name": "python3"
  },
  "language_info": {
   "codemirror_mode": {
    "name": "ipython",
    "version": 3
   },
   "file_extension": ".py",
   "mimetype": "text/x-python",
   "name": "python",
   "nbconvert_exporter": "python",
   "pygments_lexer": "ipython3",
   "version": "3.10.2"
  },
  "orig_nbformat": 4
 },
 "nbformat": 4,
 "nbformat_minor": 2
}
