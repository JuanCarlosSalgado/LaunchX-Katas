{
 "cells": [
  {
   "cell_type": "markdown",
   "metadata": {},
   "source": [
    "## Kata 9"
   ]
  },
  {
   "cell_type": "code",
   "execution_count": 3,
   "metadata": {},
   "outputs": [],
   "source": [
    "\n",
    "def report(tank1, tank2, tank3):\n",
    "    average = (tank1 + tank2 + tank3) / 3\n",
    "    return f\"\"\"Fuel Report:\n",
    "    Total Average: {average}%\n",
    "    Main tank: {tank1}%\n",
    "    External tank: {tank2}%\n",
    "    Hydrogen tank: {tank3}% \n",
    "    \"\"\""
   ]
  },
  {
   "cell_type": "code",
   "execution_count": 4,
   "metadata": {},
   "outputs": [
    {
     "name": "stdout",
     "output_type": "stream",
     "text": [
      "Fuel Report:\n",
      "    Total Average: 47.333333333333336%\n",
      "    Main tank: 56%\n",
      "    External tank: 54%\n",
      "    Hydrogen tank: 32% \n",
      "    \n"
     ]
    }
   ],
   "source": [
    "print(report(56,54,32))"
   ]
  },
  {
   "cell_type": "code",
   "execution_count": 5,
   "metadata": {},
   "outputs": [
    {
     "data": {
      "text/plain": [
       "81.0"
      ]
     },
     "execution_count": 5,
     "metadata": {},
     "output_type": "execute_result"
    }
   ],
   "source": [
    "def average(values):\n",
    "    total = sum(values)\n",
    "    num_items = len(values)\n",
    "    return total / num_items\n",
    "\n",
    "average([122,45,76])"
   ]
  },
  {
   "cell_type": "code",
   "execution_count": 7,
   "metadata": {},
   "outputs": [],
   "source": [
    "def report(tank1, tank2, tank3):\n",
    "    return f\"\"\"Fuel Report:\n",
    "    Total Average: {average([tank1, tank2, tank3])}%\n",
    "    Main tank: {tank1}%\n",
    "    External tank: {tank2}%\n",
    "    Hydrogen tank: {tank3}% \n",
    "    \"\"\"\n",
    "\n"
   ]
  },
  {
   "cell_type": "code",
   "execution_count": 8,
   "metadata": {},
   "outputs": [
    {
     "name": "stdout",
     "output_type": "stream",
     "text": [
      "Fuel Report:\n",
      "    Total Average: 35.666666666666664%\n",
      "    Main tank: 21%\n",
      "    External tank: 65%\n",
      "    Hydrogen tank: 21% \n",
      "    \n"
     ]
    }
   ],
   "source": [
    "print(report(21,65,21))"
   ]
  },
  {
   "cell_type": "markdown",
   "metadata": {},
   "source": [
    "## Parte 2"
   ]
  },
  {
   "cell_type": "code",
   "execution_count": 14,
   "metadata": {},
   "outputs": [
    {
     "name": "stdout",
     "output_type": "stream",
     "text": [
      "\n",
      "    Mission to Moon\n",
      "    Travel time: 31 minutes\n",
      "    Fuel left: 350000 gallons\n",
      "    \n"
     ]
    }
   ],
   "source": [
    "#tiempo hasta el destino\n",
    "#Combustible izq\n",
    "#Nombre del destino\n",
    "\n",
    "def rocket(time1, time2, destination, tank1, tank2):\n",
    "    return f\"\"\"\n",
    "    Mission to {destination}\n",
    "    Travel time: {time1 + time2} minutes\n",
    "    Fuel left: {tank1 + tank2} gallons\n",
    "    \"\"\"\n",
    "\n",
    "print(rocket(10, 21, \"Moon\", 120000, 230000))"
   ]
  },
  {
   "cell_type": "code",
   "execution_count": 17,
   "metadata": {},
   "outputs": [
    {
     "name": "stdout",
     "output_type": "stream",
     "text": [
      "\n",
      "    Mission to Moon\n",
      "    Travel time: 36 minutes\n",
      "    Fuel left: 350000 gallons\n",
      "    \n"
     ]
    }
   ],
   "source": [
    "\n",
    "def rocket( destination, *minutes , **fuel):\n",
    "    return f\"\"\"\n",
    "    Mission to {destination}\n",
    "    Travel time: {sum(minutes)} minutes\n",
    "    Fuel left: {sum(fuel.values())} gallons\n",
    "    \"\"\"\n",
    "\n",
    "print(rocket(\"Moon\", 10, 21, 5, external =120000, main =230000))"
   ]
  },
  {
   "cell_type": "code",
   "execution_count": 21,
   "metadata": {},
   "outputs": [
    {
     "name": "stdout",
     "output_type": "stream",
     "text": [
      "\n",
      "    Mission to Moon\n",
      "    Travel time: 36 minutes\n",
      "    Fuel left: 350000 gallons\n",
      "    external tank --> 120000 gallons left and main tank --> 230000 gallons left and \n"
     ]
    }
   ],
   "source": [
    "def rocket( destination, *minutes , **fuel):\n",
    "    Report = f\"\"\"\n",
    "    Mission to {destination}\n",
    "    Travel time: {sum(minutes)} minutes\n",
    "    Fuel left: {sum(fuel.values())} gallons\n",
    "    \"\"\"\n",
    "    for tank_name, gallons in fuel.items():\n",
    "        Report += f\"{tank_name} tank --> {gallons} gallons left and \"\n",
    "    return Report\n",
    "\n",
    "print(rocket(\"Moon\", 10, 21, 5, external =120000, main =230000))"
   ]
  },
  {
   "cell_type": "code",
   "execution_count": null,
   "metadata": {},
   "outputs": [],
   "source": []
  }
 ],
 "metadata": {
  "interpreter": {
   "hash": "c30b2895c9c2e055fddaaa93700725b4c4ae209d54b952c98fd807c1f64e523a"
  },
  "kernelspec": {
   "display_name": "Python 3.10.2 64-bit",
   "language": "python",
   "name": "python3"
  },
  "language_info": {
   "codemirror_mode": {
    "name": "ipython",
    "version": 3
   },
   "file_extension": ".py",
   "mimetype": "text/x-python",
   "name": "python",
   "nbconvert_exporter": "python",
   "pygments_lexer": "ipython3",
   "version": "3.10.2"
  },
  "orig_nbformat": 4
 },
 "nbformat": 4,
 "nbformat_minor": 2
}
